{
 "cells": [
  {
   "cell_type": "code",
   "execution_count": 1,
   "id": "99606365-ca84-4340-984e-629a6dcc3b4c",
   "metadata": {},
   "outputs": [
    {
     "name": "stdout",
     "output_type": "stream",
     "text": [
      "Aayush Tiwari\n"
     ]
    }
   ],
   "source": [
    "print('Aayush Tiwari')"
   ]
  },
  {
   "cell_type": "code",
   "execution_count": 2,
   "id": "cc69409f-9527-4f0a-9a99-4cbd15360ae4",
   "metadata": {},
   "outputs": [],
   "source": [
    "lst = [1,2,3,4,5]"
   ]
  },
  {
   "cell_type": "code",
   "execution_count": 3,
   "id": "99da6ac7-712e-48c6-acaf-a787f81b2d48",
   "metadata": {},
   "outputs": [
    {
     "data": {
      "text/plain": [
       "[1, 2, 3, 4, 5, 1, 2, 3, 4, 5]"
      ]
     },
     "execution_count": 3,
     "metadata": {},
     "output_type": "execute_result"
    }
   ],
   "source": [
    "lst*2"
   ]
  },
  {
   "cell_type": "code",
   "execution_count": 4,
   "id": "c6100036-87d5-4447-a9f8-53371fe90807",
   "metadata": {},
   "outputs": [],
   "source": [
    "lst.append([6,7])"
   ]
  },
  {
   "cell_type": "code",
   "execution_count": 5,
   "id": "30a2965d-6095-4f40-bafb-35e3d099f51c",
   "metadata": {},
   "outputs": [
    {
     "data": {
      "text/plain": [
       "[1, 2, 3, 4, 5, [6, 7]]"
      ]
     },
     "execution_count": 5,
     "metadata": {},
     "output_type": "execute_result"
    }
   ],
   "source": [
    "lst"
   ]
  },
  {
   "cell_type": "code",
   "execution_count": 6,
   "id": "3ce72871-6200-4998-80f8-9f790e7a4089",
   "metadata": {},
   "outputs": [],
   "source": [
    "lst.extend([8,9,10])"
   ]
  },
  {
   "cell_type": "code",
   "execution_count": 7,
   "id": "271e861e-52d1-4133-9cca-68f61a0a2670",
   "metadata": {},
   "outputs": [
    {
     "data": {
      "text/plain": [
       "[1, 2, 3, 4, 5, [6, 7], 8, 9, 10]"
      ]
     },
     "execution_count": 7,
     "metadata": {},
     "output_type": "execute_result"
    }
   ],
   "source": [
    "lst"
   ]
  }
 ],
 "metadata": {
  "kernelspec": {
   "display_name": "Python 3 (ipykernel)",
   "language": "python",
   "name": "python3"
  },
  "language_info": {
   "codemirror_mode": {
    "name": "ipython",
    "version": 3
   },
   "file_extension": ".py",
   "mimetype": "text/x-python",
   "name": "python",
   "nbconvert_exporter": "python",
   "pygments_lexer": "ipython3",
   "version": "3.12.4"
  }
 },
 "nbformat": 4,
 "nbformat_minor": 5
}
