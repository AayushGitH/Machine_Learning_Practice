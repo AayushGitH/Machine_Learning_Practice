{
 "cells": [
  {
   "cell_type": "code",
   "execution_count": 1,
   "id": "962581c6-cba6-4abd-adf1-18fc502cf9d3",
   "metadata": {},
   "outputs": [],
   "source": [
    "import numpy as np"
   ]
  },
  {
   "cell_type": "code",
   "execution_count": 2,
   "id": "54e953b2-639d-49c0-8789-9e373692eb6f",
   "metadata": {},
   "outputs": [],
   "source": [
    "list = [1,2,3,4,5,6]\n",
    "arr = np.array(list)"
   ]
  },
  {
   "cell_type": "code",
   "execution_count": 5,
   "id": "22f3167c-1e81-430a-a3fd-42591274649f",
   "metadata": {},
   "outputs": [],
   "source": [
    "arr[2:] = 500"
   ]
  },
  {
   "cell_type": "code",
   "execution_count": 10,
   "id": "31f03ef1-2e6d-406e-b27e-3b5eea0874ef",
   "metadata": {},
   "outputs": [
    {
     "data": {
      "text/plain": [
       "array([  0.5,   1. , 250. , 250. , 250. , 250. ])"
      ]
     },
     "execution_count": 10,
     "metadata": {},
     "output_type": "execute_result"
    }
   ],
   "source": [
    "arr / 2"
   ]
  },
  {
   "cell_type": "code",
   "execution_count": 25,
   "id": "c5517acd-f812-4bb2-9ba4-1b1b3106bcad",
   "metadata": {},
   "outputs": [
    {
     "data": {
      "text/plain": [
       "array([ True,  True, False, False, False, False])"
      ]
     },
     "execution_count": 25,
     "metadata": {},
     "output_type": "execute_result"
    }
   ],
   "source": [
    "arr < 500"
   ]
  },
  {
   "cell_type": "code",
   "execution_count": 16,
   "id": "b0bd4cbd-aeb3-4273-acaf-67c9c26c3a3b",
   "metadata": {},
   "outputs": [
    {
     "data": {
      "text/plain": [
       "array([1, 2])"
      ]
     },
     "execution_count": 16,
     "metadata": {},
     "output_type": "execute_result"
    }
   ],
   "source": [
    "arr[arr < 4]"
   ]
  },
  {
   "cell_type": "code",
   "execution_count": 26,
   "id": "4a29185f-3c4f-4a8e-b640-0d396fccefbe",
   "metadata": {},
   "outputs": [
    {
     "data": {
      "text/plain": [
       "array([  1,   2, 500, 500, 500, 500])"
      ]
     },
     "execution_count": 26,
     "metadata": {},
     "output_type": "execute_result"
    }
   ],
   "source": [
    "arr"
   ]
  },
  {
   "cell_type": "code",
   "execution_count": 28,
   "id": "e850b776-478e-45d9-818b-d4e4c531baa9",
   "metadata": {},
   "outputs": [
    {
     "data": {
      "text/plain": [
       "array([  1,   2, 500, 500, 500, 500])"
      ]
     },
     "execution_count": 28,
     "metadata": {},
     "output_type": "execute_result"
    }
   ],
   "source": [
    "arr[arr < 1000]"
   ]
  },
  {
   "cell_type": "code",
   "execution_count": 67,
   "id": "f318edc6-b1e4-4f3b-8e91-7467da932695",
   "metadata": {},
   "outputs": [
    {
     "data": {
      "text/plain": [
       "array([[0.01081624, 0.27431505],\n",
       "       [0.53575911, 0.19285653],\n",
       "       [0.3064802 , 0.2524072 ]])"
      ]
     },
     "execution_count": 67,
     "metadata": {},
     "output_type": "execute_result"
    }
   ],
   "source": [
    "random_uniform = np.random.rand(3,2)\n",
    "random_uniform"
   ]
  },
  {
   "cell_type": "code",
   "execution_count": 127,
   "id": "0aac36a1-2606-4c7f-aa50-9ba8ed55e9bd",
   "metadata": {},
   "outputs": [
    {
     "data": {
      "text/plain": [
       "array([[ 0.09521388,  0.07110507],\n",
       "       [-0.56140885, -2.9330806 ],\n",
       "       [ 1.18834949,  1.94740422]])"
      ]
     },
     "execution_count": 127,
     "metadata": {},
     "output_type": "execute_result"
    }
   ],
   "source": [
    "random_normal = np.random.randn(3,2)\n",
    "random_normal"
   ]
  },
  {
   "cell_type": "code",
   "execution_count": 244,
   "id": "e4daa427-c47d-487a-ab50-0ffb0c4de5cb",
   "metadata": {},
   "outputs": [
    {
     "data": {
      "text/plain": [
       "array([[7, 0]])"
      ]
     },
     "execution_count": 244,
     "metadata": {},
     "output_type": "execute_result"
    }
   ],
   "source": [
    "random_ints = np.random.randint(0,10,(1,2))\n",
    "random_ints"
   ]
  },
  {
   "cell_type": "code",
   "execution_count": 265,
   "id": "87849c6e-b66c-44f5-8376-7eeac84d74eb",
   "metadata": {},
   "outputs": [
    {
     "data": {
      "text/plain": [
       "array([500, 500, 500])"
      ]
     },
     "execution_count": 265,
     "metadata": {},
     "output_type": "execute_result"
    }
   ],
   "source": [
    "random_choice = np.random.choice(arr, 3)\n",
    "random_choice"
   ]
  },
  {
   "cell_type": "code",
   "execution_count": 274,
   "id": "46db258d-ffed-4826-b4d1-8f365a13ed14",
   "metadata": {},
   "outputs": [
    {
     "data": {
      "text/plain": [
       "array([[7, 7, 7],\n",
       "       [7, 7, 7],\n",
       "       [7, 7, 7]])"
      ]
     },
     "execution_count": 274,
     "metadata": {},
     "output_type": "execute_result"
    }
   ],
   "source": [
    "ar = np.full((3,3), 7)\n",
    "ar"
   ]
  },
  {
   "cell_type": "code",
   "execution_count": 279,
   "id": "5ba5fd51-2f44-47de-81f6-291adaa72493",
   "metadata": {},
   "outputs": [
    {
     "data": {
      "text/plain": [
       "array(['Aayu', 'Aayu', '500', '500', '500', '500'], dtype='<U11')"
      ]
     },
     "execution_count": 279,
     "metadata": {},
     "output_type": "execute_result"
    }
   ],
   "source": [
    "condition = np.where(arr > 2, arr, 'Aayu')\n",
    "condition"
   ]
  },
  {
   "cell_type": "code",
   "execution_count": 293,
   "id": "a2bc04ad-8bc8-4153-a35f-e37ff06e7847",
   "metadata": {},
   "outputs": [
    {
     "data": {
      "text/plain": [
       "array([  2, 500])"
      ]
     },
     "execution_count": 293,
     "metadata": {},
     "output_type": "execute_result"
    }
   ],
   "source": [
    "taken = np.take(arr, [1,2])\n",
    "taken"
   ]
  }
 ],
 "metadata": {
  "kernelspec": {
   "display_name": "Python 3 (ipykernel)",
   "language": "python",
   "name": "python3"
  },
  "language_info": {
   "codemirror_mode": {
    "name": "ipython",
    "version": 3
   },
   "file_extension": ".py",
   "mimetype": "text/x-python",
   "name": "python",
   "nbconvert_exporter": "python",
   "pygments_lexer": "ipython3",
   "version": "3.10.2"
  }
 },
 "nbformat": 4,
 "nbformat_minor": 5
}
